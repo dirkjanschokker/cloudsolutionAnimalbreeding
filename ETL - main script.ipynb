{
  "cells": [
    {
      "cell_type": "markdown",
      "metadata": {
        "id": "id37daJE7Dqe"
      },
      "source": [
        "#Databricks notebook source"
      ]
    },
    {
      "cell_type": "code",
      "execution_count": null,
      "metadata": {
        "id": "VHAZb8tl7Dqg"
      },
      "outputs": [],
      "source": [
        "spark.builder.getOrCreate()"
      ]
    },
    {
      "cell_type": "code",
      "execution_count": null,
      "metadata": {
        "id": "uEskUWaT7Dqr"
      },
      "outputs": [],
      "source": [
        "from pyspark.sql.functions import *\n",
        "from pyspark.sql.functions import count, lit, lpad, col, hour, minute, to_timestamp, to_date, when, isnull, lag, lead, unix_timestamp, min as min_, max as max_\n",
        "from pyspark.sql import functions as F\n",
        "from pyspark.sql.window import Window\n",
        "from datetime import *\n",
        "from datetime import date, datetime, timedelta\n",
        "import os"
      ]
    },
    {
      "cell_type": "markdown",
      "metadata": {
        "id": "fPCMq5iZ7Dqs"
      },
      "source": [
        "# Parameter settings<br>\n",
        " - milking system<br>\n",
        " - parity <br>\n",
        " - breed<br>\n",
        " - breed percentage<br>\n",
        " - window size rolling average<br>\n",
        " - calved before the date `x`, now `June 1, 2017`<br>\n",
        " - ..."
      ]
    },
    {
      "cell_type": "code",
      "execution_count": null,
      "metadata": {
        "id": "SzKZnE3s7Dqs"
      },
      "outputs": [],
      "source": [
        "milkingsystem = 'AMS'\n",
        "parity = '4' # every parity under this number will be taken into accoount in the analysis\n",
        "breed = 'HF'\n",
        "breedpercentage = '6'\n",
        "windowsizerol_days = '10'"
      ]
    },
    {
      "cell_type": "markdown",
      "metadata": {
        "id": "rSScZHY17Dqt"
      },
      "source": [
        "# ETL with AMS dataset"
      ]
    },
    {
      "cell_type": "code",
      "execution_count": null,
      "metadata": {
        "id": "BeHCGMO_7Dqu"
      },
      "outputs": [],
      "source": [
        "df = spark.read.text(ams_data)"
      ]
    },
    {
      "cell_type": "code",
      "execution_count": null,
      "metadata": {
        "id": "6DkYKd517Dqu"
      },
      "outputs": [],
      "source": [
        "data = df.select(\n",
        "      F.trim(df.value.substr( 1,8)).cast(\"Int\").alias('animal'),\n",
        "      F.trim(df.value.substr(10,8)).cast(\"Int\").alias('herd'),\n",
        "      to_date(df.value.substr(19,8),\"yyyyMMdd\").alias('milkdate'),\n",
        "      df.value.substr(28,4).alias('milkstarttime'),\n",
        "      df.value.substr(33,4).alias('milkendtime'),\n",
        "      F.trim(df.value.substr(38,5)).cast(\"Int\").alias('kgmilk'),\n",
        "      F.trim(df.value.substr(43,4)).alias('parlour_unit'),\n",
        "      df.value.substr(48,1).alias('success'),\n",
        "      df.value.substr(19,13).alias('ts'),\n",
        ")\n",
        "print('# records: ', data.count())\n",
        "print('# cows: ', data.select('animal').distinct().count())"
      ]
    },
    {
      "cell_type": "markdown",
      "source": [
        "Loading calves-dataframe"
      ],
      "metadata": {
        "id": "KgGTguylKeQh"
      }
    },
    {
      "cell_type": "code",
      "execution_count": null,
      "metadata": {
        "id": "RVUg5udX7Dqv"
      },
      "outputs": [],
      "source": [
        "cdf = calfdates.txtrenumd.gz\n",
        "calving = cdf.select(\n",
        "      F.trim(cdf.value.substr( 1,16)).cast(\"Int\").alias('animal'),\n",
        "      F.trim(cdf.value.substr(17,3)).cast(\"Int\").alias('parity'),\n",
        "      to_date(cdf.value.substr(20,8),\"yyyyMMdd\").alias('calfdate')\n",
        ")"
      ]
    },
    {
      "cell_type": "code",
      "execution_count": null,
      "metadata": {
        "id": "ZkDGY4jM7Dqw"
      },
      "outputs": [],
      "source": [
        "def days(i):\n",
        "    return 60 * 60 * 24 * i"
      ]
    },
    {
      "cell_type": "code",
      "execution_count": null,
      "metadata": {
        "id": "UOm_chYc7Dqw"
      },
      "outputs": [],
      "source": [
        "calving = calving.withColumn(\"calfdate_minus7\", F.to_date(F.to_timestamp((F.to_timestamp(\"calfdate\",\"yyyyMMdd HHmm\").cast(\"long\") - days(7)))))\\\n",
        "                 .withColumn(\"calfdate_plus7\", F.to_date(F.to_timestamp((F.to_timestamp(\"calfdate\",\"yyyyMMdd HHmm\").cast(\"long\") + days(7)))))\\\n",
        "                 .withColumn(\"calfdate_plus7ts\", F.to_timestamp((F.to_timestamp(\"calfdate\",\"yyyyMMdd HHmm\").cast(\"long\") + days(7))))\\\n",
        ".withColumn('nextParity',F.lead(calving['calfdate'])\n",
        "                                          .over(Window.partitionBy(\"animal\")\\\n",
        "                                          .orderBy(\"parity\")))\\\n",
        ".withColumn('calfdate_lagged',F.lag(calving['calfdate'])\n",
        "                                          .over(Window.partitionBy(\"animal\")\\\n",
        "                                          .orderBy(\"parity\")))\\\n",
        ".withColumn('parity_lagged',F.lag(calving['parity'])\n",
        "                                          .over(Window.partitionBy(\"animal\")\\\n",
        "                                          .orderBy(\"parity\")))"
      ]
    },
    {
      "cell_type": "code",
      "execution_count": null,
      "metadata": {
        "id": "7qF5-_ld7Dqw"
      },
      "outputs": [],
      "source": [
        "calving = calving.filter(calving[\"parity\"] == 1)"
      ]
    },
    {
      "cell_type": "code",
      "execution_count": null,
      "metadata": {
        "id": "4srmNbMt7Dqx"
      },
      "outputs": [],
      "source": [
        "data1 = data.join(calving, ((data.animal == calving.animal) &\n",
        "                             (data.milkdate >= calving.calfdate) &\n",
        "                             (data.milkdate <= calving.nextParity)),how='inner')\\\n",
        "             .select(data[\"*\"],calving[\"parity\"], calving[\"calfdate\"])"
      ]
    },
    {
      "cell_type": "code",
      "source": [
        "print('# records: ', data1.count())\n",
        "print('# cows: ', data1.select('animal').distinct().count())"
      ],
      "metadata": {
        "id": "wtO61SgqJUTi"
      },
      "execution_count": null,
      "outputs": []
    },
    {
      "cell_type": "markdown",
      "source": [
        "#Loading pm005 "
      ],
      "metadata": {
        "id": "dSjsLZPUJdQ0"
      }
    },
    {
      "cell_type": "code",
      "execution_count": null,
      "metadata": {
        "id": "KxTmlmEx7Dqy"
      },
      "outputs": [],
      "source": [
        "pm = pm005geb.txtrenumd.gz\n",
        "pm005 = pm.select(\n",
        "    F.trim(pm.value.substr( 1,16)).cast(\"Int\").alias('animal'),\n",
        "    to_date(pm.value.substr(17,8),\"yyyyMMdd\").alias('birthdate'),\n",
        "    F.trim(pm.value.substr(27,1)).cast(\"Int\").alias('parity'),\n",
        "    to_date(pm.value.substr(29,8),\"yyyyMMdd\").alias('calfdate'),\n",
        "    F.trim(pm.value.substr(37,9)).cast(\"Int\").alias('herd'),\n",
        "    to_date(pm.value.substr(47,8),\"yyyyMMdd\").alias('testmilkdate'),\n",
        "    F.trim(pm.value.substr(56,3)).cast(\"Int\").alias('kgmilk'),\n",
        "    F.trim(pm.value.substr(60,3)).cast(\"Int\").alias('%fat'),\n",
        "    F.trim(pm.value.substr(64,3)).cast(\"Int\").cast(\"Int\").alias('%protein'),\n",
        "    F.trim(pm.value.substr(69,3)).cast(\"Int\").alias('cellcount'),\n",
        "    F.trim(pm.value.substr(75,1)).cast(\"Int\").alias('ureum'),\n",
        "    F.trim(pm.value.substr(79,1)).cast(\"Int\").alias('%lactose'),\n",
        "    F.trim(pm.value.substr(83,1)).cast(\"Int\").alias('ketosisindicator'),\n",
        "    F.trim(pm.value.substr(86,1)).cast(\"Int\").alias('nrmilkingsonwhichdayproductionisbased'),\n",
        "    F.trim(pm.value.substr(89,1)).cast(\"Int\").alias('statusdayproduction'),\n",
        "    F.trim(pm.value.substr(92,1)).cast(\"Int\").alias('statusfictivity'),\n",
        "    F.trim(pm.value.substr(95,1)).cast(\"Int\").alias('statuscow'),    \n",
        ")"
      ]
    },
    {
      "cell_type": "code",
      "execution_count": null,
      "metadata": {
        "id": "aXJlBZDt7Dqy"
      },
      "outputs": [],
      "source": [
        "pm005v2 = pm005.select(\"animal\", \"parity\", \"birthdate\", \"herd\", \"nrmilkingsonwhichdayproductionisbased\")\\\n",
        "               .filter((pm005[\"nrmilkingsonwhichdayproductionisbased\"] != '4') & (pm005[\"nrmilkingsonwhichdayproductionisbased\"] != '0'))\\\n",
        ".withColumn(\"milk_system\", F.when(F.col(\"nrmilkingsonwhichdayproductionisbased\") == '9', 'AMS').otherwise('CMS'))\\\n",
        "                 .drop(\"nrmilkingsonwhichdayproductionisbased\")\\"
      ]
    },
    {
      "cell_type": "code",
      "execution_count": null,
      "metadata": {
        "id": "RTOXY_up7Dqy"
      },
      "outputs": [],
      "source": [
        "pm005v4 = pm005v2.groupBy(\"animal\")\\\n",
        "                  .agg(F.sum(F.when(F.col('milk_system')==\"AMS\",1).otherwise(0)).alias(\"AMS\"),\\\n",
        "                       F.sum(F.when(F.col('milk_system')==\"CMS\",1).otherwise(0)).alias(\"CMS\"),\\\n",
        "                       F.first(\"birthdate\").alias(\"birthdate\"),\\\n",
        "                       F.first(\"herd\").alias(\"herd\"))\\\n",
        "                  .na.fill({ 'AMS':0, 'CMS':0 })\\\n",
        "                  .withColumn('year', year(\"birthdate\")).drop(\"birthdate\")"
      ]
    },
    {
      "cell_type": "code",
      "execution_count": null,
      "metadata": {
        "id": "5TcAmDM97Dqz"
      },
      "outputs": [],
      "source": [
        "pm005v8 = pm005v4.withColumn(\"milk_system2\", when((F.col(\"AMS\") >= \"1\") & (F.col(\"CMS\") <= \"1\"), \"AMS\")\\\n",
        "                                             .otherwise(when((F.col(\"CMS\") >= \"1\") & (F.col(\"AMS\") <= \"1\"), \"CMS\")\\\n",
        "                                             .otherwise(\"switch\")))\\\n",
        ".select(\"animal\", \"year\", \"herd\", \"milk_system2\")"
      ]
    },
    {
      "cell_type": "code",
      "execution_count": null,
      "metadata": {
        "id": "V9k5fDu27Dqz"
      },
      "outputs": [],
      "source": [
        "pm005v8.cache()"
      ]
    },
    {
      "cell_type": "markdown",
      "metadata": {
        "id": "yDpAVwW97Dqz"
      },
      "source": [
        "# Pedigree file<br>\n",
        " Load pedigree file."
      ]
    },
    {
      "cell_type": "code",
      "execution_count": null,
      "metadata": {
        "id": "vJGpoEZZ7Dq0"
      },
      "outputs": [],
      "source": [
        "ped = pedigree.txtrenumd.gz"
      ]
    },
    {
      "cell_type": "markdown",
      "metadata": {
        "id": "IExLr-_H7Dq0"
      },
      "source": [
        "Again, we load every line as text, and transform them into the appropriate datatypes.\n",
        "We have consulted the documentation of the dataset, and the following structure was indicated."
      ]
    },
    {
      "cell_type": "code",
      "execution_count": null,
      "metadata": {
        "id": "3SnAzUpQ7Dq0"
      },
      "outputs": [],
      "source": [
        "pedigree = ped.select(\n",
        "      F.trim(ped.value.substr( 1,16)).cast(\"Int\").alias('animal'),\n",
        "      F.trim(ped.value.substr(17,15)).cast(\"Int\").alias('sire'),\n",
        "      F.trim(ped.value.substr(33,16)).cast(\"Int\").alias('dam'),\n",
        "      to_date(ped.value.substr(49,8),\"yyyyMMdd\").alias('birthdate'),\n",
        "      F.trim(ped.value.substr(58,3)).alias('first_breed'),\n",
        "      ped.value.substr(61,1).cast(\"Int\").alias('breed_part1'),\n",
        "    F.trim(ped.value.substr(62,3)).alias('second_breed'),\n",
        "    ped.value.substr(65,1).cast(\"Int\").alias('breed_part2'),\n",
        "    ped.value.substr(67,1).alias('sexe'),\n",
        "    ped.value.substr(69,1).alias('herdbooked')\n",
        ")"
      ]
    },
    {
      "cell_type": "code",
      "execution_count": null,
      "metadata": {
        "id": "Fjc6AMCD7Dq0"
      },
      "outputs": [],
      "source": [
        "pedigree0 = pedigree.join(pm005v8, (pedigree.animal == pm005v8.animal)).drop(pm005v8.animal)"
      ]
    },
    {
      "cell_type": "markdown",
      "metadata": {
        "id": "17vzC4RP7Dq1"
      },
      "source": [
        "Multiple filter statements:<br>\n",
        "  - on sexe, only selecting the females<br>\n",
        "  - only herdbooked 'S'<br>\n",
        "  - selecting Holstein Friesian (HF), having 7/8 or 8/8 parts HF"
      ]
    },
    {
      "cell_type": "code",
      "execution_count": null,
      "metadata": {
        "id": "nIMsq8Zd7Dq1"
      },
      "outputs": [],
      "source": [
        "pedigree1 = pedigree0.filter(pedigree[\"sexe\"] == 'F')\\\n",
        "                     .filter(pedigree[\"herdbooked\"] == 'S')\\\n",
        "                     .where(pedigree[\"first_breed\"] == breed)\\\n",
        "                     .where(pedigree[\"breed_part1\"] > breedpercentage)\\"
      ]
    },
    {
      "cell_type": "code",
      "execution_count": null,
      "metadata": {
        "id": "sVcINCeO7Dq1"
      },
      "outputs": [],
      "source": [
        "pedigree1.cache()"
      ]
    },
    {
      "cell_type": "markdown",
      "metadata": {
        "id": "NxFjsB-B7Dq2"
      },
      "source": [
        "Again, we load every line as text, and transform them into the appropriate datatypes.<br>\n",
        "We have consulted the documentation of the dataset, and the following structure was indicated."
      ]
    },
    {
      "cell_type": "code",
      "source": [
        "cdf = calvingdataframe\n",
        "calving = cdf.select(\n",
        "      F.trim(cdf.value.substr( 1,16)).cast(\"Int\").alias('animal'),\n",
        "      F.trim(cdf.value.substr(17,3)).cast(\"Int\").alias('parity'),\n",
        "      to_date(cdf.value.substr(20,8),\"yyyyMMdd\").alias('calfdate')"
      ],
      "metadata": {
        "id": "zMSj_xiZG-zX"
      },
      "execution_count": null,
      "outputs": []
    },
    {
      "cell_type": "code",
      "execution_count": null,
      "metadata": {
        "id": "jT3Sr9qx7Dq3"
      },
      "outputs": [],
      "source": [
        "def days(i):\n",
        "    return 60 * 60 * 24 * i"
      ]
    },
    {
      "cell_type": "code",
      "execution_count": null,
      "metadata": {
        "id": "2UTWqlhc7Dq3"
      },
      "outputs": [],
      "source": [
        "calving = calving.withColumn(\"calfdate_minus7\", F.to_date(F.to_timestamp((F.to_timestamp(\"calfdate\",\"yyyyMMdd HHmm\").cast(\"long\") - days(7)))))\\\n",
        "                 .withColumn(\"calfdate_plus7\", F.to_date(F.to_timestamp((F.to_timestamp(\"calfdate\",\"yyyyMMdd HHmm\").cast(\"long\") + days(7)))))\\\n",
        "                 .withColumn(\"calfdate_plus7ts\", F.to_timestamp((F.to_timestamp(\"calfdate\",\"yyyyMMdd HHmm\").cast(\"long\") + days(7))))"
      ]
    },
    {
      "cell_type": "code",
      "execution_count": null,
      "metadata": {
        "id": "nuhISYvb7Dq3"
      },
      "outputs": [],
      "source": [
        "calving = calving.filter(calving[\"calfdate\"] < '2017-06-01')"
      ]
    },
    {
      "cell_type": "code",
      "execution_count": null,
      "metadata": {
        "id": "KoS2J2Y-7Dq4"
      },
      "outputs": [],
      "source": [
        "calving = calving.withColumn('nextParity', to_date(when(calving.nextParity.isNull(), \n",
        "                                                  datetime.strptime(\"01/06/2017\", '%m/%d/%Y')).otherwise(calving.nextParity),\"yyyyMMdd\"))"
      ]
    },
    {
      "cell_type": "markdown",
      "metadata": {
        "id": "bfPwDGy-7Dq4"
      },
      "source": [
        "Make season for (herd-year-season) of calving variable (four seasons 1-2-3, 4-5-6, 7-8-9, 10-11-12)"
      ]
    },
    {
      "cell_type": "code",
      "execution_count": null,
      "metadata": {
        "id": "rvYdEiAY7Dq4"
      },
      "outputs": [],
      "source": [
        "calving0 = calving.withColumn(\"season\", when(month(col(\"calfdate\")) < '4', '1')\\\n",
        "                   .when(month(col(\"calfdate\")) == '4', '2')\\\n",
        "                   .when(month(col(\"calfdate\")) == '5', '2')\\\n",
        "                   .when(month(col(\"calfdate\")) == '6', '2')\\\n",
        "                   .when(month(col(\"calfdate\")) == '7', '3')\\\n",
        "                   .when(month(col(\"calfdate\")) == '8', '3')\\\n",
        "                   .when(month(col(\"calfdate\")) == '9', '3')\\\n",
        "                   .when(month(col(\"calfdate\")) > '9', '4'))"
      ]
    },
    {
      "cell_type": "code",
      "execution_count": null,
      "metadata": {
        "id": "e5Gncktg7Dq4"
      },
      "outputs": [],
      "source": [
        "calving0 = calving0.filter(calving0[\"parity\"] < parity)"
      ]
    },
    {
      "cell_type": "markdown",
      "metadata": {
        "id": "vy3kVzgw7Dq5"
      },
      "source": [
        "Join calving and pedrigree datasets"
      ]
    },
    {
      "cell_type": "code",
      "execution_count": null,
      "metadata": {
        "id": "epJEJ-s67Dq5"
      },
      "outputs": [],
      "source": [
        "calving1 = calving0.join(pedigree1, (calving.animal == pedigree1.animal)).drop(pedigree1.animal)"
      ]
    },
    {
      "cell_type": "markdown",
      "metadata": {
        "id": "cf6lS6TZ7Dq5"
      },
      "source": [
        "Make age at calving variable and remove animals calved earlier than at 640 days of age"
      ]
    },
    {
      "cell_type": "code",
      "execution_count": null,
      "metadata": {
        "id": "_N7J7B4v7Dq5"
      },
      "outputs": [],
      "source": [
        "calving1 = calving1.withColumn(\"ageAtCalving\",datediff(col(\"calfdate\"),col(\"birthdate\")))\\\n",
        ".withColumn(\"calvingAge\",(F.round(col(\"ageAtCalving\")/30.5,0)).cast(\"Int\"))"
      ]
    },
    {
      "cell_type": "code",
      "execution_count": null,
      "metadata": {
        "id": "Br-B5qhT7Dq6"
      },
      "outputs": [],
      "source": [
        "calving2 = calving1.filter(calving1[\"ageAtCalving\"] > '640')\\"
      ]
    },
    {
      "cell_type": "code",
      "execution_count": null,
      "metadata": {
        "id": "psss1S2N7Dq6"
      },
      "outputs": [],
      "source": [
        "calving2 = calving2.withColumn(\"hys\", concat(col(\"herd\"), lit(\"\"), col(\"Year\"), lit(\"\"), col(\"season\")).cast(\"Int\"))"
      ]
    },
    {
      "cell_type": "code",
      "execution_count": null,
      "metadata": {
        "id": "km-N68Qm7Dq6"
      },
      "outputs": [],
      "source": [
        "calving2.cache()"
      ]
    },
    {
      "cell_type": "code",
      "execution_count": null,
      "metadata": {
        "id": "G7iESBm37Dq6"
      },
      "outputs": [],
      "source": [
        "data = data.withColumn(\"timestamp\", F.to_timestamp(\"ts\",\"yyyyMMdd HHmm\"))"
      ]
    },
    {
      "cell_type": "code",
      "execution_count": null,
      "metadata": {
        "id": "U-1kR2w07Dq7"
      },
      "outputs": [],
      "source": [
        "data1 = data.join(calving2, ((data.animal == calving2.animal) &\n",
        "                             (data.milkdate >= calving2.calfdate_minus7) &\n",
        "                             (data.milkdate <= calving2.nextParity)),how='inner')\\\n",
        "             .select(data[\"*\"],calving2[\"calvingAge\"], calving2[\"calfdate\"],calving2[\"hys\"],calving2[\"parity\"],calving2[\"nextParity\"])"
      ]
    },
    {
      "cell_type": "code",
      "execution_count": null,
      "metadata": {
        "id": "qHmV2APr7Dq7"
      },
      "outputs": [],
      "source": [
        "data11 = data1.withColumn('firstMilkdate',F.first(data1['milkdate'])\\\n",
        "                                          .over(Window.partitionBy(\"animal\", \"parity\")\\\n",
        "                                          .orderBy(\"milkdate\")))"
      ]
    },
    {
      "cell_type": "code",
      "execution_count": null,
      "metadata": {
        "id": "HeDYYzol7Dq7"
      },
      "outputs": [],
      "source": [
        "data111 = data11.withColumn(\"firstMilkdate14\", F.to_date(F.to_timestamp((F.to_timestamp(\"firstMilkdate\",\"yyyyMMdd\").cast(\"long\") + days(7)))))"
      ]
    },
    {
      "cell_type": "markdown",
      "metadata": {
        "id": "pdiQZi867Dq8"
      },
      "source": [
        "Remove animals that start milking later than at day 14 after calving."
      ]
    },
    {
      "cell_type": "code",
      "execution_count": null,
      "metadata": {
        "id": "bdJ78tcA7Dq8"
      },
      "outputs": [],
      "source": [
        "data1111 = data111.filter(F.col(\"calfdate\") <= F.col(\"firstMilkdate14\"))"
      ]
    },
    {
      "cell_type": "markdown",
      "metadata": {
        "id": "sx-JX5Kg7Dq8"
      },
      "source": [
        "\n",
        "Getting a subset of the data, needed for further analysis."
      ]
    },
    {
      "cell_type": "code",
      "execution_count": null,
      "metadata": {
        "id": "vGrNa8oY7Dq9"
      },
      "outputs": [],
      "source": [
        "data2 = data1111.select(\"animal\", \"herd\", \"hys\", \"milkdate\", \"parity\", \"milkstarttime\", \"timestamp\", \"success\", \"kgmilk\", \"parlour_unit\", \"calfdate\",\"calvingAge\", \"nextParity\")"
      ]
    },
    {
      "cell_type": "markdown",
      "metadata": {
        "id": "oHyddFud7Dq-"
      },
      "source": [
        "Generating new columns for further calculations, inlcuding the \"milkstarttime\" in hours and minutes, as well as the date."
      ]
    },
    {
      "cell_type": "code",
      "execution_count": null,
      "metadata": {
        "id": "t66OuVTF7Dq-"
      },
      "outputs": [],
      "source": [
        "data = data2.withColumn('milkstarttime_h', when(isnull(hour('timestamp')), 0).otherwise(hour('timestamp')))\\\n",
        "            .withColumn('milkstarttime_m', col('milkstarttime').substr(3, 2))\\\n",
        "            .withColumn('milkstarttime_hm', F.concat(F.col('milkstarttime_h'), F.lit(':'), F.col('milkstarttime_m')))\\\n",
        "            .withColumn('temp', F.concat(F.col('milkdate'), F.lit(' '), F.col('milkstarttime_hm')))\\\n",
        "            .withColumn('date', to_date(F.col('milkdate'),\"yyyyMMdd\"))\\\n",
        "            .withColumn(\"timestamp2\", F.to_timestamp(\"temp\",\"yyyy-MM-dd HH:mm\"))"
      ]
    },
    {
      "cell_type": "markdown",
      "metadata": {
        "id": "Wpni8V-67Dq_"
      },
      "source": [
        "Filtering the data for only the successful milkings."
      ]
    },
    {
      "cell_type": "code",
      "execution_count": null,
      "metadata": {
        "id": "a9D41OYm7Dq_"
      },
      "outputs": [],
      "source": [
        "data = data.filter(data[\"success\"] == 'T')\\\n",
        ".filter(data[\"kgmilk\"] != '0')"
      ]
    },
    {
      "cell_type": "markdown",
      "metadata": {
        "id": "b40z-BnI7DrA"
      },
      "source": [
        "In order to create the previous and next milking periods per calving, we utilize the `lag` and `lead` function"
      ]
    },
    {
      "cell_type": "code",
      "execution_count": null,
      "metadata": {
        "id": "O-C1S1NF7DrA"
      },
      "outputs": [],
      "source": [
        "data = data.drop(\"milkstarttime\", \"timestamp\", \"milkstarttime_hm\", \"temp\")\\\n",
        "           .withColumn('prevMilking',F.lag(data['timestamp2'])\n",
        "                                          .over(Window.partitionBy(\"animal\")\\\n",
        "                                          .orderBy(\"timestamp2\",\"animal\")))\\\n",
        "           .withColumn('nextMilking',F.lead(data['timestamp2'])\n",
        "                                          .over(Window.partitionBy(\"animal\")\\\n",
        "                                          .orderBy(\"timestamp2\",\"animal\")))\\\n",
        "           .withColumn('nextMilkingValue',F.lead(data['kgmilk'])\n",
        "                                          .over(Window.partitionBy(\"animal\")\\\n",
        "                                          .orderBy(\"timestamp2\",\"animal\")))"
      ]
    },
    {
      "cell_type": "markdown",
      "metadata": {
        "id": "V5zw14Jt7DrB"
      },
      "source": [
        "Here, for each milking the current date, previous date, and next date are calculated."
      ]
    },
    {
      "cell_type": "code",
      "execution_count": null,
      "metadata": {
        "id": "_Vyh5Nui7DrB"
      },
      "outputs": [],
      "source": [
        "data = data.withColumn('prevDate', to_date(F.col('prevMilking')))\\\n",
        "           .withColumn('nextDate', to_date(F.col('nextMilking')))\\\n",
        "           .withColumn('currentDate', to_date(F.col('timestamp2')))"
      ]
    },
    {
      "cell_type": "markdown",
      "metadata": {
        "id": "Lo3q5kDg7DrB"
      },
      "source": [
        "Below the calculation of the average milk in kg per day. This calculation is based upon Marieke's PhD, where we part of the first milking of a day is actually a part of the previous day. This part is thus discarded for the current day average, whereas the first milking of the next day is included in the average of the current day."
      ]
    },
    {
      "cell_type": "code",
      "execution_count": null,
      "metadata": {
        "id": "qVT1D9LS7DrC"
      },
      "outputs": [],
      "source": [
        "data = data.withColumn(\"time_diff_portion1\", (F.col(\"timestamp2\").cast(\"long\") - F.col(\"prevMilking\").cast(\"long\"))/60.)\\\n",
        "           .withColumn(\"time_diff_min_cleaned_portion1\", when(F.col(\"time_diff_portion1\") < 86400,F.col(\"time_diff_portion1\")).otherwise(\"0\"))\\\n",
        "           .withColumn(\"time_diff_sec_portion1\", F.col(\"time_diff_min_cleaned_portion1\")*60.)\\\n",
        "           .withColumn(\"timesincemid_portion1\", (((F.col(\"milkstarttime_h\")*60.*60.)+(F.col(\"milkstarttime_m\")*60.))))\\\n",
        "           .withColumn(\"milk_pps_portion1\", ((F.col(\"kgmilk\") / F.col('time_diff_sec_portion1')) * F.col('timesincemid_portion1')))\\\n",
        "           .withColumn(\"portion1\", when(((F.col('currentDate') != F.col(\"prevDate\")) & (F.col('currentDate') == F.col(\"nextDate\"))), F.col(\"milk_pps_portion1\")).otherwise(\"0\"))\\\n",
        "           .withColumn(\"portion2\", when(((F.col('currentDate') == F.col(\"prevDate\")) & (F.col('currentDate') == F.col(\"nextDate\"))), F.col(\"kgmilk\")).otherwise(\"0\"))\\\n",
        "           .withColumn(\"time_diff_portion3\", (F.col(\"nextMilking\").cast(\"long\") - F.col(\"timestamp2\").cast(\"long\"))/60.)\\\n",
        "           .withColumn(\"time_diff_min_cleaned_portion3\", when(F.col(\"time_diff_portion3\") < 86400,F.col(\"time_diff_portion3\")).otherwise(\"0\"))\\\n",
        "           .withColumn(\"time_diff_sec_portion3\", F.col(\"time_diff_min_cleaned_portion3\")*60.)\\\n",
        "           .withColumn(\"timetomid_portion3\", (86400 - ((F.col(\"milkstarttime_h\")*60.*60.)+(F.col(\"milkstarttime_m\")*60.))))\\\n",
        "           .withColumn(\"milk_pps_portion3\", ((F.col(\"nextMilkingValue\") / F.col('time_diff_sec_portion3')) * F.col('timetomid_portion3')))\\\n",
        "           .withColumn(\"portion3\", when(((F.col('currentDate') == F.col(\"prevDate\")) & (F.col('currentDate') != F.col(\"nextDate\"))), F.col(\"kgmilk\")+F.col('milk_pps_portion3')).otherwise(\"0\"))\\\n",
        "           .withColumn(\"dayAvgMilk\", round(F.expr(\"portion1 + portion2 + portion3\"),2))"
      ]
    },
    {
      "cell_type": "code",
      "execution_count": null,
      "metadata": {
        "id": "L3nwX31U7DrC"
      },
      "outputs": [],
      "source": [
        "joined_df99 = data.select(\"animal\",\"herd\",\"hys\",\"milkdate\",\"parity\",\"kgmilk\",\"calvingAge\",\"calfdate\",\"nextParity\",\"date\",\"timestamp2\",\"currentDate\", \"dayAvgMilk\")\\\n",
        ".withColumn(\"mmy\", F.round(F.mean(\"dayAvgMilk\").over(Window.partitionBy(\"animal\", \"currentDate\"))/10, 2))"
      ]
    },
    {
      "cell_type": "markdown",
      "metadata": {
        "id": "104y4wr27DrC"
      },
      "source": [
        "Beginning of period and end of period still not right yet `Nov 5 2019`"
      ]
    },
    {
      "cell_type": "markdown",
      "metadata": {
        "id": "xm0DYK5P7DrD"
      },
      "source": [
        "Use `window` function for calculating the moving average."
      ]
    },
    {
      "cell_type": "markdown",
      "metadata": {
        "id": "pJBrRd-Y7DrD"
      },
      "source": [
        "Function to calculate number of seconds from number of days"
      ]
    },
    {
      "cell_type": "code",
      "execution_count": null,
      "metadata": {
        "id": "Kx8y9AOI7DrD"
      },
      "outputs": [],
      "source": [
        "days = lambda i: i * 86400\n",
        "joined_df1a = joined_df99.withColumn('timestampGMT', joined_df99.currentDate.cast('timestamp'))\n",
        "#create window by casting timestamp to long (number of seconds)\n",
        "w = (Window.partitionBy(F.col(\"animal\")).orderBy(F.col(\"timestampGMT\").cast('long')).rangeBetween(-days(10), days(10)))\n",
        "joined_df2 = joined_df1a.withColumn('rollingMean', F.mean(\"mmy\").over(w))\\\n",
        "                      .withColumn('residualRollingMean', F.col(\"mmy\")-F.col('rollingMean'))"
      ]
    },
    {
      "cell_type": "code",
      "execution_count": null,
      "metadata": {
        "id": "E8_p_P7r7DrE"
      },
      "outputs": [],
      "source": [
        "joined_df2 = joined_df2.dropDuplicates()"
      ]
    },
    {
      "cell_type": "markdown",
      "metadata": {
        "id": "7Pt8IucT7DrE"
      },
      "source": [
        "# Further subsetting/filtering"
      ]
    },
    {
      "cell_type": "code",
      "execution_count": null,
      "metadata": {
        "id": "IGsQeI8c7DrE"
      },
      "outputs": [],
      "source": [
        "joined_df2a = joined_df2.withColumn('DIM',F.row_number().over(Window.partitionBy(\"animal\", \"parity\").orderBy(\"currentDate\")))\\\n",
        ".withColumn(\"llengthMax\", (F.max(\"DIM\").over(Window.partitionBy(\"animal\", \"parity\"))-20))"
      ]
    },
    {
      "cell_type": "code",
      "execution_count": null,
      "metadata": {
        "id": "ch3VfrmZ7DrF"
      },
      "outputs": [],
      "source": [
        "joined_df3a = joined_df2a.filter((joined_df2a[\"DIM\"] > 10) & (joined_df2a[\"DIM\"] < 340))\n",
        "joined_df3b = joined_df3a.drop(\"DIM\").distinct()"
      ]
    },
    {
      "cell_type": "code",
      "execution_count": null,
      "metadata": {
        "id": "K6elZ8BU7DrF"
      },
      "outputs": [],
      "source": [
        "w =  Window.partitionBy(\"animal\", \"parity\")\n",
        "joined_df3b2 = joined_df3b.withColumn(\"NaNcount\", F.sum(F.when(F.isnan(\"residualRollingMean\"), 1).otherwise(0)).over(w))\\\n",
        "  .filter(\"NaNcount<=50\")"
      ]
    },
    {
      "cell_type": "code",
      "execution_count": null,
      "metadata": {
        "id": "wCQxGaFl7DrF"
      },
      "outputs": [],
      "source": [
        "from pyspark.sql.types import FloatType\n",
        "def autocorr(ret):\n",
        "  import pandas as pd\n",
        "  s = pd.Series(ret)\n",
        "  return float(s.autocorr(lag=1))\n",
        "auto=F.udf(autocorr, FloatType())"
      ]
    },
    {
      "cell_type": "code",
      "execution_count": null,
      "metadata": {
        "id": "hBEPJqOe7DrG"
      },
      "outputs": [],
      "source": [
        "joined_df3c = joined_df3b2.withColumn(\"residualRollingMeanArray\", F.collect_list(F.round(F.col(\"residualRollingMean\"), 2)).over(Window.partitionBy(\"animal\", \"parity\")))\\\n",
        "    .withColumn(\"autocor\", F.round(auto(\"residualRollingMeanArray\"),2))\\\n",
        ".withColumn(\"var_residualRollingMean\", F.var_samp(\"residualRollingMean\").over(Window.partitionBy(\"animal\", \"parity\")))\\\n",
        ".withColumn(\"skewness_residualRollingMean\", F.skewness(\"residualRollingMean\").over(Window.partitionBy(\"animal\", \"parity\")))"
      ]
    },
    {
      "cell_type": "markdown",
      "metadata": {
        "id": "TP-LcOmP7DrG"
      },
      "source": [
        "Making 7 classes: (1)50-90 (2)91-130 (3)131-170 (4)171-210 (5)211-250 (6)251-290 (7)291-330"
      ]
    },
    {
      "cell_type": "code",
      "execution_count": null,
      "metadata": {
        "id": "_0XVXuX_7DrG"
      },
      "outputs": [],
      "source": [
        "joined_df3c = joined_df3c.withColumn(\"llengthCat\", \n",
        "                 when((F.col(\"llengthMax\") >= \"50\") & (F.col(\"llengthMax\") <= \"90\"), \"1\")\\\n",
        "                .when((F.col(\"llengthMax\") >= \"91\") & (F.col(\"llengthMax\") <= \"130\"), \"2\")\\\n",
        "                .when((F.col(\"llengthMax\") >= \"131\") & (F.col(\"llengthMax\") <= \"170\"), \"3\")\\\n",
        "                .when((F.col(\"llengthMax\") >= \"171\") & (F.col(\"llengthMax\") <= \"210\"), \"4\")\\\n",
        "                .when((F.col(\"llengthMax\") >= \"211\") & (F.col(\"llengthMax\") <= \"250\"), \"5\")\\\n",
        "                .when((F.col(\"llengthMax\") >= \"251\") & (F.col(\"llengthMax\") <= \"290\"), \"6\")\\\n",
        "                .when((F.col(\"llengthMax\") >= \"291\") & (F.col(\"llengthMax\") <= \"330\"), \"7\")\\\n",
        "                                    .cast(\"Int\"))"
      ]
    },
    {
      "cell_type": "code",
      "execution_count": null,
      "metadata": {
        "id": "8W4oGqrr7DrG"
      },
      "outputs": [],
      "source": [
        "joined_df3d = joined_df3c.filter(joined_df3c[\"llengthCat\"] > '0')"
      ]
    },
    {
      "cell_type": "code",
      "execution_count": null,
      "metadata": {
        "id": "ElXxXSky7DrH"
      },
      "outputs": [],
      "source": [
        "joined_df7 = joined_df3d.select(\"animal\",\"herd\",\"calvingAge\", \"calfdate\",\"hys\",\"mmy\",\"parity\",\"llengthMax\",\"llengthCat\",\"autocor\",\"var_residualRollingMean\",\"skewness_residualRollingMean\")\\\n",
        ".withColumn(\"lnvar\", F.round(log(F.col(\"var_residualRollingMean\")),2))\\\n",
        ".distinct()\n",
        "print(\"nr of records: \", joined_df7.count())\n",
        "print(\"nr of cows: \", joined_df7.select(\"animal\").distinct().count())"
      ]
    },
    {
      "cell_type": "code",
      "execution_count": null,
      "metadata": {
        "id": "73mqK9177DrH"
      },
      "outputs": [],
      "source": [
        "joined_df99 = joined_df7.groupby(\"animal\", \"herd\").pivot(\"parity\").agg(first(F.round(\"mmy\", 2)).alias(\"mmy\"), first(\"var_residualRollingMean\").alias(\"var_residualRollingMean\"), first(\"calvingAge\").alias(\"calvingAge\"), first(\"hys\").alias(\"hys\"), first(F.round(\"autocor\", 2)).alias(\"autocor\"),first(F.round(\"skewness_residualRollingMean\",2)).alias(\"skewness\"),first(F.round(\"lnvar\",2)).alias(\"lnvar\"), first(\"llengthCat\").alias(\"llengthCat\"))\\\n",
        ".withColumn(\"intHerdBin\", (F.col(\"herd\")%10))\n",
        "print(\"nr of records: \", joined_df99.count())\n",
        "print(\"nr of cows: \", joined_df99.select(\"animal\").distinct().count())"
      ]
    },
    {
      "cell_type": "code",
      "execution_count": null,
      "metadata": {
        "id": "5Jx2xNNV7DrH"
      },
      "outputs": [],
      "source": [
        "joined_df99.repartition('intHerdBin').write.partitionBy('intHerdBin').format('csv').save(\"/mnt/files/intHerdBinFull_09032021_\")"
      ]
    }
  ],
  "metadata": {
    "kernelspec": {
      "display_name": "Python 3",
      "language": "python",
      "name": "python3"
    },
    "language_info": {
      "codemirror_mode": {
        "name": "ipython",
        "version": 3
      },
      "file_extension": ".py",
      "mimetype": "text/x-python",
      "name": "python",
      "nbconvert_exporter": "python",
      "pygments_lexer": "ipython3",
      "version": "3.6.4"
    },
    "colab": {
      "name": "crvetl_2021March_check.ipynb",
      "provenance": [],
      "collapsed_sections": []
    }
  },
  "nbformat": 4,
  "nbformat_minor": 0
}